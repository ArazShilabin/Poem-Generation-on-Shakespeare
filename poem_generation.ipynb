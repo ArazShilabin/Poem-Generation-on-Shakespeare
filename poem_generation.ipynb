{
  "nbformat": 4,
  "nbformat_minor": 0,
  "metadata": {
    "colab": {
      "name": "poem_generation.ipynb",
      "provenance": [],
      "collapsed_sections": [],
      "authorship_tag": "ABX9TyNZfLPLy/j6TuTHEIhCL1AZ",
      "include_colab_link": true
    },
    "kernelspec": {
      "name": "python3",
      "display_name": "Python 3"
    },
    "accelerator": "GPU"
  },
  "cells": [
    {
      "cell_type": "markdown",
      "metadata": {
        "id": "view-in-github",
        "colab_type": "text"
      },
      "source": [
        "<a href=\"https://colab.research.google.com/github/ArazShilabin/Poem-Generation-on-Shakespeare/blob/master/poem_generation.ipynb\" target=\"_parent\"><img src=\"https://colab.research.google.com/assets/colab-badge.svg\" alt=\"Open In Colab\"/></a>"
      ]
    },
    {
      "cell_type": "code",
      "metadata": {
        "id": "mL59RLnyFjov",
        "colab_type": "code",
        "colab": {
          "base_uri": "https://localhost:8080/",
          "height": 101
        },
        "outputId": "cbbf3083-0aca-4b46-8cb4-2704667eaee2"
      },
      "source": [
        "%tensorflow_version 2.x # GOOGLE COLLAB USERS ONLY\n",
        "import os\n",
        "import numpy as np\n",
        "import pandas as pd\n",
        "import matplotlib.pyplot as plt\n",
        "import tensorflow as tf"
      ],
      "execution_count": 3,
      "outputs": [
        {
          "output_type": "stream",
          "text": [
            "`%tensorflow_version` only switches the major version: 1.x or 2.x.\n",
            "You set: `2.x # GOOGLE COLLAB USERS ONLY`. This will be interpreted as: `2.x`.\n",
            "\n",
            "\n",
            "TensorFlow is already loaded. Please restart the runtime to change versions.\n"
          ],
          "name": "stdout"
        }
      ]
    },
    {
      "cell_type": "markdown",
      "metadata": {
        "id": "OQLodhy8Gl5a",
        "colab_type": "text"
      },
      "source": [
        "**get data**"
      ]
    },
    {
      "cell_type": "code",
      "metadata": {
        "id": "q2fwIdsIF_CO",
        "colab_type": "code",
        "colab": {
          "base_uri": "https://localhost:8080/",
          "height": 454
        },
        "outputId": "8408529f-eb42-4ff1-b19c-fc901063f506"
      },
      "source": [
        "dir_text = os.getcwd()+'/shakespeare.txt'\n",
        "text = open(dir_text, 'r').read()\n",
        "print(text[:1000])"
      ],
      "execution_count": 4,
      "outputs": [
        {
          "output_type": "stream",
          "text": [
            "\n",
            "                     1\n",
            "  From fairest creatures we desire increase,\n",
            "  That thereby beauty's rose might never die,\n",
            "  But as the riper should by time decease,\n",
            "  His tender heir might bear his memory:\n",
            "  But thou contracted to thine own bright eyes,\n",
            "  Feed'st thy light's flame with self-substantial fuel,\n",
            "  Making a famine where abundance lies,\n",
            "  Thy self thy foe, to thy sweet self too cruel:\n",
            "  Thou that art now the world's fresh ornament,\n",
            "  And only herald to the gaudy spring,\n",
            "  Within thine own bud buriest thy content,\n",
            "  And tender churl mak'st waste in niggarding:\n",
            "    Pity the world, or else this glutton be,\n",
            "    To eat the world's due, by the grave and thee.\n",
            "\n",
            "\n",
            "                     2\n",
            "  When forty winters shall besiege thy brow,\n",
            "  And dig deep trenches in thy beauty's field,\n",
            "  Thy youth's proud livery so gazed on now,\n",
            "  Will be a tattered weed of small worth held:  \n",
            "  Then being asked, where all thy beauty lies,\n",
            "  Where all the treasure of thy lusty days;\n",
            "  To say within thine own deep su\n"
          ],
          "name": "stdout"
        }
      ]
    },
    {
      "cell_type": "markdown",
      "metadata": {
        "id": "mROAMH_AIQm7",
        "colab_type": "text"
      },
      "source": [
        "**getting and mapping our unique characters**"
      ]
    },
    {
      "cell_type": "code",
      "metadata": {
        "id": "n2163dtwGvKS",
        "colab_type": "code",
        "colab": {
          "base_uri": "https://localhost:8080/",
          "height": 87
        },
        "outputId": "11e0d27c-1fa1-4996-cb2d-fa905774f3c9"
      },
      "source": [
        "# The unique characters in the file\n",
        "vocab = sorted(set(text))\n",
        "print(vocab)\n",
        "len(vocab)\n",
        "print(vocab[0])"
      ],
      "execution_count": 5,
      "outputs": [
        {
          "output_type": "stream",
          "text": [
            "['\\n', ' ', '!', '\"', '&', \"'\", '(', ')', ',', '-', '.', '0', '1', '2', '3', '4', '5', '6', '7', '8', '9', ':', ';', '<', '>', '?', 'A', 'B', 'C', 'D', 'E', 'F', 'G', 'H', 'I', 'J', 'K', 'L', 'M', 'N', 'O', 'P', 'Q', 'R', 'S', 'T', 'U', 'V', 'W', 'X', 'Y', 'Z', '[', ']', '_', '`', 'a', 'b', 'c', 'd', 'e', 'f', 'g', 'h', 'i', 'j', 'k', 'l', 'm', 'n', 'o', 'p', 'q', 'r', 's', 't', 'u', 'v', 'w', 'x', 'y', 'z', '|', '}']\n",
            "\n",
            "\n"
          ],
          "name": "stdout"
        }
      ]
    },
    {
      "cell_type": "markdown",
      "metadata": {
        "id": "-v4WYO-IIfQP",
        "colab_type": "text"
      },
      "source": [
        "## PreProcessing"
      ]
    },
    {
      "cell_type": "code",
      "metadata": {
        "id": "W0CMcOv8IFql",
        "colab_type": "code",
        "colab": {
          "base_uri": "https://localhost:8080/",
          "height": 50
        },
        "outputId": "a33de239-01a3-4696-8371-07ed25161cc3"
      },
      "source": [
        "char_to_ind = {word:ind for ind, word in enumerate(vocab)}\n",
        "ind_to_char = np.array(vocab)\n",
        "print(char_to_ind['R'])\n",
        "print(ind_to_char[43])"
      ],
      "execution_count": 6,
      "outputs": [
        {
          "output_type": "stream",
          "text": [
            "43\n",
            "R\n"
          ],
          "name": "stdout"
        }
      ]
    },
    {
      "cell_type": "code",
      "metadata": {
        "id": "wAie2VvlM3E8",
        "colab_type": "code",
        "colab": {
          "base_uri": "https://localhost:8080/",
          "height": 118
        },
        "outputId": "7c62be6e-5fb1-4316-c55e-625626fbaadf"
      },
      "source": [
        "encoded_text = np.array([char_to_ind[ch] for ch in text])\n",
        "print(encoded_text.shape)\n",
        "print(encoded_text[:100])\n"
      ],
      "execution_count": 7,
      "outputs": [
        {
          "output_type": "stream",
          "text": [
            "(5445609,)\n",
            "[ 0  1  1  1  1  1  1  1  1  1  1  1  1  1  1  1  1  1  1  1  1  1 12  0\n",
            "  1  1 31 73 70 68  1 61 56 64 73 60 74 75  1 58 73 60 56 75 76 73 60 74\n",
            "  1 78 60  1 59 60 74 64 73 60  1 64 69 58 73 60 56 74 60  8  0  1  1 45\n",
            " 63 56 75  1 75 63 60 73 60 57 80  1 57 60 56 76 75 80  5 74  1 73 70 74\n",
            " 60  1 68 64]\n"
          ],
          "name": "stdout"
        }
      ]
    },
    {
      "cell_type": "markdown",
      "metadata": {
        "id": "914Nyem_UNGT",
        "colab_type": "text"
      },
      "source": [
        "**choosing batch size**"
      ]
    },
    {
      "cell_type": "code",
      "metadata": {
        "id": "iZb9G2m7Nrfw",
        "colab_type": "code",
        "colab": {
          "base_uri": "https://localhost:8080/",
          "height": 151
        },
        "outputId": "23c42335-d234-49a2-eca6-e765b85745e6"
      },
      "source": [
        "print(text[:200])\n",
        "print(len(text))"
      ],
      "execution_count": 8,
      "outputs": [
        {
          "output_type": "stream",
          "text": [
            "\n",
            "                     1\n",
            "  From fairest creatures we desire increase,\n",
            "  That thereby beauty's rose might never die,\n",
            "  But as the riper should by time decease,\n",
            "  His tender heir might bear his memory:\n",
            " \n",
            "5445609\n"
          ],
          "name": "stdout"
        }
      ]
    },
    {
      "cell_type": "code",
      "metadata": {
        "id": "Cr1--IG8Ns_3",
        "colab_type": "code",
        "colab": {
          "base_uri": "https://localhost:8080/",
          "height": 34
        },
        "outputId": "41b5342a-a27c-470b-d1f1-4c17fe252ee9"
      },
      "source": [
        "# we need to see at least 3 lines to see the poem rhyme\n",
        "good_sample = \"\\n                     1\\n  From fairest creatures we desire increase,\\n  That thereby beauty's rose might never die,\\n  But as the riper should by time decease,\"\n",
        "len(good_sample)"
      ],
      "execution_count": 9,
      "outputs": [
        {
          "output_type": "execute_result",
          "data": {
            "text/plain": [
              "157"
            ]
          },
          "metadata": {
            "tags": []
          },
          "execution_count": 9
        }
      ]
    },
    {
      "cell_type": "code",
      "metadata": {
        "id": "Ur_UBUTCWmZv",
        "colab_type": "code",
        "colab": {
          "base_uri": "https://localhost:8080/",
          "height": 34
        },
        "outputId": "beca29b5-6d82-4d08-bd0e-e02dd4147b0f"
      },
      "source": [
        "# I chose 120 as a median\n",
        "seq_len = 120\n",
        "total_num_seq = len(text)//(seq_len+1)\n",
        "total_num_seq"
      ],
      "execution_count": 10,
      "outputs": [
        {
          "output_type": "execute_result",
          "data": {
            "text/plain": [
              "45005"
            ]
          },
          "metadata": {
            "tags": []
          },
          "execution_count": 10
        }
      ]
    },
    {
      "cell_type": "code",
      "metadata": {
        "id": "JkeB7Qi-YE-D",
        "colab_type": "code",
        "colab": {
          "base_uri": "https://localhost:8080/",
          "height": 890
        },
        "outputId": "79b428ec-9b2f-4330-a9ed-7eb40b7631dd"
      },
      "source": [
        "# Create Training Sequences (we mean turn 5445609 to tensor)\n",
        "char_dataset = tf.data.Dataset.from_tensor_slices(encoded_text)\n",
        "for i in char_dataset.take(50): # it's the same data but in a tensor format printing first 50 chars, that's why i.numpy() is used\n",
        "     print(ind_to_char[i.numpy()])\n"
      ],
      "execution_count": 11,
      "outputs": [
        {
          "output_type": "stream",
          "text": [
            "\n",
            "\n",
            " \n",
            " \n",
            " \n",
            " \n",
            " \n",
            " \n",
            " \n",
            " \n",
            " \n",
            " \n",
            " \n",
            " \n",
            " \n",
            " \n",
            " \n",
            " \n",
            " \n",
            " \n",
            " \n",
            " \n",
            " \n",
            "1\n",
            "\n",
            "\n",
            " \n",
            " \n",
            "F\n",
            "r\n",
            "o\n",
            "m\n",
            " \n",
            "f\n",
            "a\n",
            "i\n",
            "r\n",
            "e\n",
            "s\n",
            "t\n",
            " \n",
            "c\n",
            "r\n",
            "e\n",
            "a\n",
            "t\n",
            "u\n",
            "r\n",
            "e\n",
            "s\n",
            " \n",
            "w\n"
          ],
          "name": "stdout"
        }
      ]
    },
    {
      "cell_type": "code",
      "metadata": {
        "id": "YjnvH9bybVdn",
        "colab_type": "code",
        "colab": {
          "base_uri": "https://localhost:8080/",
          "height": 34
        },
        "outputId": "36248083-8093-4b2e-e346-fa91d2aaaea1"
      },
      "source": [
        "# the 45005 we have isn't exactly 45005, we rounded it down, so we have to get rid of the remaining reminder so we chose True\n",
        "sequences = char_dataset.batch(seq_len+1, drop_remainder=True) # len+1 because index starts from [0 to seq_len]\n",
        "sequences"
      ],
      "execution_count": 12,
      "outputs": [
        {
          "output_type": "execute_result",
          "data": {
            "text/plain": [
              "<BatchDataset shapes: (121,), types: tf.int64>"
            ]
          },
          "metadata": {
            "tags": []
          },
          "execution_count": 12
        }
      ]
    },
    {
      "cell_type": "code",
      "metadata": {
        "id": "Evf9hvT7drrx",
        "colab_type": "code",
        "colab": {}
      },
      "source": [
        "def create_seq_targets(seq): # 12345\n",
        "    input_txt = seq[:-1] # 1234\n",
        "    target_txt = seq[1:] # 2345\n",
        "    return input_txt, target_txt\n",
        "\n",
        "dataset = sequences.map(create_seq_targets)\n"
      ],
      "execution_count": 0,
      "outputs": []
    },
    {
      "cell_type": "code",
      "metadata": {
        "id": "Ocjo848EnzqT",
        "colab_type": "code",
        "colab": {
          "base_uri": "https://localhost:8080/",
          "height": 370
        },
        "outputId": "19a8cceb-9a81-43f7-b198-944f2de5e2bd"
      },
      "source": [
        "\n",
        "for input_txt, target_txt in dataset.take(1):\n",
        "    print(input_txt.numpy())\n",
        "    print(''.join(ind_to_char[input_txt.numpy()])) # str.join(list): it joins all the elements in list, putting str between them\n",
        "    print('\\n')\n",
        "    print(target_txt.numpy())\n",
        "    # There is an extra whitespace!\n",
        "    print(''.join(ind_to_char[target_txt.numpy()]))\n"
      ],
      "execution_count": 14,
      "outputs": [
        {
          "output_type": "stream",
          "text": [
            "[ 0  1  1  1  1  1  1  1  1  1  1  1  1  1  1  1  1  1  1  1  1  1 12  0\n",
            "  1  1 31 73 70 68  1 61 56 64 73 60 74 75  1 58 73 60 56 75 76 73 60 74\n",
            "  1 78 60  1 59 60 74 64 73 60  1 64 69 58 73 60 56 74 60  8  0  1  1 45\n",
            " 63 56 75  1 75 63 60 73 60 57 80  1 57 60 56 76 75 80  5 74  1 73 70 74\n",
            " 60  1 68 64 62 63 75  1 69 60 77 60 73  1 59 64 60  8  0  1  1 27 76 75]\n",
            "\n",
            "                     1\n",
            "  From fairest creatures we desire increase,\n",
            "  That thereby beauty's rose might never die,\n",
            "  But\n",
            "\n",
            "\n",
            "[ 1  1  1  1  1  1  1  1  1  1  1  1  1  1  1  1  1  1  1  1  1 12  0  1\n",
            "  1 31 73 70 68  1 61 56 64 73 60 74 75  1 58 73 60 56 75 76 73 60 74  1\n",
            " 78 60  1 59 60 74 64 73 60  1 64 69 58 73 60 56 74 60  8  0  1  1 45 63\n",
            " 56 75  1 75 63 60 73 60 57 80  1 57 60 56 76 75 80  5 74  1 73 70 74 60\n",
            "  1 68 64 62 63 75  1 69 60 77 60 73  1 59 64 60  8  0  1  1 27 76 75  1]\n",
            "                     1\n",
            "  From fairest creatures we desire increase,\n",
            "  That thereby beauty's rose might never die,\n",
            "  But \n"
          ],
          "name": "stdout"
        }
      ]
    },
    {
      "cell_type": "markdown",
      "metadata": {
        "id": "xqjDZnfcroau",
        "colab_type": "text"
      },
      "source": [
        "### Generating training batches\n",
        "\n",
        "Now that we have the actual sequences, we will create the batches, we want to shuffle these sequences into a random order, so the model doesn't overfit to any section of the text, but can instead generate characters given any seed text."
      ]
    },
    {
      "cell_type": "code",
      "metadata": {
        "id": "MKLvCK3aoWTe",
        "colab_type": "code",
        "colab": {
          "base_uri": "https://localhost:8080/",
          "height": 34
        },
        "outputId": "deb37564-e0af-43e4-e1de-58e70d3b439d"
      },
      "source": [
        "# Batch size\n",
        "batch_size = 128\n",
        "\n",
        "# Buffer size to shuffle the dataset so it doesn't attempt to shuffle the entire sequence in memory.\n",
        "# Instead, it maintains a buffer in which it shuffles elements.\n",
        "# if this doesn't exist, in high memory data it would cause an error (overflow)\n",
        "buffer_size = 10000\n",
        "dataset = dataset.shuffle(buffer_size).batch(batch_size, drop_remainder=True)\n",
        "dataset # ((128, 120), (128, 120)) because each of the tuple are for input text and output text, the 128 is for batch size and 120 for length of the sentence\n"
      ],
      "execution_count": 15,
      "outputs": [
        {
          "output_type": "execute_result",
          "data": {
            "text/plain": [
              "<BatchDataset shapes: ((128, 120), (128, 120)), types: (tf.int64, tf.int64)>"
            ]
          },
          "metadata": {
            "tags": []
          },
          "execution_count": 15
        }
      ]
    },
    {
      "cell_type": "markdown",
      "metadata": {
        "id": "WRQd0KEIxmyC",
        "colab_type": "text"
      },
      "source": [
        "## Model"
      ]
    },
    {
      "cell_type": "code",
      "metadata": {
        "id": "qA0Png2gvpQ6",
        "colab_type": "code",
        "colab": {}
      },
      "source": [
        "# Length of the vocabulary in chars\n",
        "vocab_size = len(vocab) # 84\n",
        "\n",
        "# The embedding dimension\n",
        "embed_dim = 64\n",
        "\n",
        "# Number of RNN units (RNN size)\n",
        "rnn_neurons = 1026"
      ],
      "execution_count": 0,
      "outputs": []
    },
    {
      "cell_type": "code",
      "metadata": {
        "id": "lUC7uGQoLF8v",
        "colab_type": "code",
        "colab": {}
      },
      "source": [
        "# we use sparse because we are one-hot encoded\n",
        "from tensorflow.keras.losses import sparse_categorical_crossentropy \n",
        "\n",
        "def sparse_cat_loss(y_true,y_pred): # we made this func so we can make from_logits=True\n",
        "  return sparse_categorical_crossentropy(y_true, y_pred, from_logits=True) # logits is the logarithmic probabilites"
      ],
      "execution_count": 0,
      "outputs": []
    },
    {
      "cell_type": "code",
      "metadata": {
        "id": "mgf9IXhdOVd5",
        "colab_type": "code",
        "colab": {}
      },
      "source": [
        "from tensorflow.keras.models import Sequential\n",
        "from tensorflow.keras.layers import LSTM,Dense,Embedding,Dropout,GRU"
      ],
      "execution_count": 0,
      "outputs": []
    },
    {
      "cell_type": "code",
      "metadata": {
        "id": "gS4dJAYeOYRg",
        "colab_type": "code",
        "colab": {}
      },
      "source": [
        "def create_model(vocab_size, embed_dim, rnn_neurons, batch_size):\n",
        "    model = Sequential()\n",
        "    model.add(Embedding(vocab_size, embed_dim,batch_input_shape=[batch_size, None]))\n",
        "    model.add(GRU(rnn_neurons,return_sequences=True,stateful=True,recurrent_initializer='glorot_uniform')) # glorot is the last name of xavier, it's the same initilization\n",
        "    # Final Dense Layer to Predict\n",
        "    model.add(Dense(vocab_size))\n",
        "    model.compile(optimizer='adam', loss=sparse_cat_loss) \n",
        "    return model"
      ],
      "execution_count": 0,
      "outputs": []
    },
    {
      "cell_type": "code",
      "metadata": {
        "id": "LAhglWIfPyUK",
        "colab_type": "code",
        "colab": {}
      },
      "source": [
        "model = create_model(\n",
        "  vocab_size = vocab_size,\n",
        "  embed_dim=embed_dim,\n",
        "  rnn_neurons=rnn_neurons,\n",
        "  batch_size=batch_size)"
      ],
      "execution_count": 0,
      "outputs": []
    },
    {
      "cell_type": "code",
      "metadata": {
        "id": "TAfBDuZEQpNX",
        "colab_type": "code",
        "colab": {
          "base_uri": "https://localhost:8080/",
          "height": 252
        },
        "outputId": "615ff4c2-e771-4c63-c2fb-7264b9bf6e83"
      },
      "source": [
        "model.summary()"
      ],
      "execution_count": 21,
      "outputs": [
        {
          "output_type": "stream",
          "text": [
            "Model: \"sequential\"\n",
            "_________________________________________________________________\n",
            "Layer (type)                 Output Shape              Param #   \n",
            "=================================================================\n",
            "embedding (Embedding)        (128, None, 64)           5376      \n",
            "_________________________________________________________________\n",
            "gru (GRU)                    (128, None, 1026)         3361176   \n",
            "_________________________________________________________________\n",
            "dense (Dense)                (128, None, 84)           86268     \n",
            "=================================================================\n",
            "Total params: 3,452,820\n",
            "Trainable params: 3,452,820\n",
            "Non-trainable params: 0\n",
            "_________________________________________________________________\n"
          ],
          "name": "stdout"
        }
      ]
    },
    {
      "cell_type": "markdown",
      "metadata": {
        "id": "5fjDrYOjTgv0",
        "colab_type": "text"
      },
      "source": [
        "**checking if the model works correct**\n",
        "\n",
        "Let's make sure everything is ok with our model before we spend too much time training! Let's pass in a batch to confirm the model currently predicts random characters without any training.\n",
        "\n"
      ]
    },
    {
      "cell_type": "code",
      "metadata": {
        "id": "hk2ljQjsQ7YV",
        "colab_type": "code",
        "colab": {
          "base_uri": "https://localhost:8080/",
          "height": 437
        },
        "outputId": "f6c03e38-7d8b-4abe-efbd-f7460d503f77"
      },
      "source": [
        "for input_example_batch, target_example_batch in dataset.take(1):\n",
        "    # Predict off some random batch\n",
        "    example_batch_predictions = model(input_example_batch)\n",
        "\n",
        "    # Display the dimensions of the predictions\n",
        "    print(example_batch_predictions.shape, \" <=== (batch_size, sequence_length, vocab_size)\")\n",
        "    print(\"\\nthis is the predicted probabilities on the first batch on the 6th vocab which are semi random because it hasn't been trained yet:\\n\",example_batch_predictions[0][5])\n",
        "    "
      ],
      "execution_count": 22,
      "outputs": [
        {
          "output_type": "stream",
          "text": [
            "(128, 120, 84)  <=== (batch_size, sequence_length, vocab_size)\n",
            "\n",
            "this is the predicted probabilities on the first batch on the 6th vocab which are semi random because it hasn't been trained yet:\n",
            " tf.Tensor(\n",
            "[-4.77511296e-03  6.38767669e-04 -4.49275598e-03 -1.16717387e-02\n",
            " -7.01847719e-03 -8.48157052e-03  3.20284721e-03  4.05522203e-03\n",
            " -5.88445272e-03  4.33088047e-03  3.44032864e-03 -2.49285786e-03\n",
            "  2.30217283e-03 -6.41316548e-03 -3.64438375e-03 -1.83474831e-03\n",
            "  7.12830108e-03 -2.88953865e-03  4.47027525e-03 -6.66826684e-03\n",
            "  5.15616313e-03  3.08726425e-03  4.43988387e-03 -1.03964964e-02\n",
            " -4.47107101e-04 -1.62357220e-03 -8.35289899e-03 -8.74937885e-03\n",
            " -7.12859794e-04  2.36988859e-03  5.14071248e-03 -4.99784062e-03\n",
            " -9.30446945e-03  5.92658995e-03  8.90134461e-03 -2.92440900e-03\n",
            " -7.14827096e-03  4.43589641e-03  2.94708507e-03 -1.13544408e-02\n",
            "  2.69004260e-03 -1.68926350e-03 -5.74308028e-03  2.35468315e-06\n",
            " -3.33795906e-03  7.63794826e-03  3.42725980e-04 -3.02504911e-03\n",
            "  9.19934129e-04 -4.44766972e-03 -6.95270533e-03 -8.66059959e-03\n",
            "  4.44449484e-03 -2.69137381e-04 -4.99757333e-03 -9.09393653e-04\n",
            " -4.31364635e-03 -3.82412085e-03  9.52509406e-04 -3.83988442e-03\n",
            "  7.16905482e-03 -1.73243915e-03 -1.63885462e-03 -2.25547235e-03\n",
            " -8.41632485e-04 -4.30117082e-03  8.08835309e-03  1.11679444e-02\n",
            " -2.76821968e-03 -1.32939185e-03  1.59778986e-02  1.14910239e-02\n",
            "  4.88971407e-03  1.44401295e-02 -2.40826770e-03 -6.21025218e-03\n",
            "  2.19773198e-03 -1.33613031e-03 -3.02241533e-03 -2.96656438e-03\n",
            " -8.13605357e-03  3.92316142e-03  6.01694547e-03 -3.01411445e-03], shape=(84,), dtype=float32)\n"
          ],
          "name": "stdout"
        }
      ]
    },
    {
      "cell_type": "code",
      "metadata": {
        "id": "ydrIbff7UVTA",
        "colab_type": "code",
        "colab": {
          "base_uri": "https://localhost:8080/",
          "height": 151
        },
        "outputId": "44bb30e6-1472-4553-9aee-000156c90155"
      },
      "source": [
        "sampled_indices = tf.random.categorical(example_batch_predictions[0], num_samples=1) # tf.random.categorical draws a sample on random on a probability distribution\n",
        "# Reformat to not be a lists of lists\n",
        "sampled_indices = tf.squeeze(sampled_indices,axis=-1).numpy()\n",
        "sampled_indices\n"
      ],
      "execution_count": 23,
      "outputs": [
        {
          "output_type": "execute_result",
          "data": {
            "text/plain": [
              "array([ 6, 45, 79, 54, 54, 73, 26, 25, 51, 14, 29,  0, 36, 61, 58, 42, 31,\n",
              "       42, 52, 23, 12, 57, 60, 31, 77, 81, 61, 66, 16, 67,  6, 10, 59, 10,\n",
              "       29, 38, 45, 81,  0,  8, 39, 45, 65, 71, 16,  3, 27, 63, 42,  0, 51,\n",
              "       26, 33, 62, 70, 34, 71, 71, 32, 21,  5, 24, 52, 70, 24, 77,  6, 59,\n",
              "       57, 30, 66, 30, 13, 54, 26, 26, 71, 20, 38, 17, 76, 14, 18, 46, 32,\n",
              "       34, 44,  7, 61, 27, 33, 20,  7, 15, 33, 60, 13, 59, 38, 41, 79, 27,\n",
              "       25, 61, 43,  3, 23,  5, 29, 35, 41, 11, 62, 61, 51, 18, 79, 51,  7,\n",
              "       37])"
            ]
          },
          "metadata": {
            "tags": []
          },
          "execution_count": 23
        }
      ]
    },
    {
      "cell_type": "code",
      "metadata": {
        "id": "SY4Ij2izVnpG",
        "colab_type": "code",
        "colab": {
          "base_uri": "https://localhost:8080/",
          "height": 235
        },
        "outputId": "a5f3dfb3-c108-4e00-aafe-0b86b4d2d904"
      },
      "source": [
        "print(\"Given the input seq: \\n\")\n",
        "print(\"\".join(ind_to_char[input_example_batch[0]]))\n",
        "print('\\n')\n",
        "print(\"Next Char Predictions: \\n\")\n",
        "print(\"\".join(ind_to_char[sampled_indices ]))\n"
      ],
      "execution_count": 24,
      "outputs": [
        {
          "output_type": "stream",
          "text": [
            "Given the input seq: \n",
            "\n",
            "ll me how thou hast dispos'd thy charge.\n",
            "DROMIO OF EPHESUS. My charge was but to fetch you from the mart\n",
            "  Home to your \n",
            "\n",
            "\n",
            "Next Char Predictions: \n",
            "\n",
            "(Tx__rA?Z3D\n",
            "KfcQFQ[<1beFvzfk5l(.d.DMTz\n",
            ",NTjp5\"BhQ\n",
            "ZAHgoIppG:'>[o>v(dbEkE2_AAp9M6u37UGIS)fBH9)4He2dMPxB?fR\"<'DJP0gfZ7xZ)L\n"
          ],
          "name": "stdout"
        }
      ]
    },
    {
      "cell_type": "markdown",
      "metadata": {
        "id": "Nfxikrw4XcMb",
        "colab_type": "text"
      },
      "source": [
        "## Train"
      ]
    },
    {
      "cell_type": "code",
      "metadata": {
        "id": "oaB8vpJUXYuB",
        "colab_type": "code",
        "colab": {
          "base_uri": "https://localhost:8080/",
          "height": 1000
        },
        "outputId": "02734895-57eb-46df-846a-271805c37d05"
      },
      "source": [
        "epochs = 30\n",
        "model.fit(dataset,epochs=epochs)"
      ],
      "execution_count": 25,
      "outputs": [
        {
          "output_type": "stream",
          "text": [
            "Epoch 1/30\n",
            "351/351 [==============================] - 88s 252ms/step - loss: 2.5441\n",
            "Epoch 2/30\n",
            "351/351 [==============================] - 88s 251ms/step - loss: 1.7187\n",
            "Epoch 3/30\n",
            "351/351 [==============================] - 88s 252ms/step - loss: 1.4496\n",
            "Epoch 4/30\n",
            "351/351 [==============================] - 88s 252ms/step - loss: 1.3344\n",
            "Epoch 5/30\n",
            "351/351 [==============================] - 89s 253ms/step - loss: 1.2733\n",
            "Epoch 6/30\n",
            "351/351 [==============================] - 88s 252ms/step - loss: 1.2335\n",
            "Epoch 7/30\n",
            "351/351 [==============================] - 89s 253ms/step - loss: 1.2039\n",
            "Epoch 8/30\n",
            "351/351 [==============================] - 88s 252ms/step - loss: 1.1802\n",
            "Epoch 9/30\n",
            "351/351 [==============================] - 89s 252ms/step - loss: 1.1602\n",
            "Epoch 10/30\n",
            "351/351 [==============================] - 89s 253ms/step - loss: 1.1429\n",
            "Epoch 11/30\n",
            "351/351 [==============================] - 89s 253ms/step - loss: 1.1264\n",
            "Epoch 12/30\n",
            "351/351 [==============================] - 89s 252ms/step - loss: 1.1121\n",
            "Epoch 13/30\n",
            "351/351 [==============================] - 88s 252ms/step - loss: 1.0983\n",
            "Epoch 14/30\n",
            "351/351 [==============================] - 88s 251ms/step - loss: 1.0858\n",
            "Epoch 15/30\n",
            "351/351 [==============================] - 88s 252ms/step - loss: 1.0731\n",
            "Epoch 16/30\n",
            "351/351 [==============================] - 88s 251ms/step - loss: 1.0621\n",
            "Epoch 17/30\n",
            "351/351 [==============================] - 88s 252ms/step - loss: 1.0509\n",
            "Epoch 18/30\n",
            "351/351 [==============================] - 89s 254ms/step - loss: 1.0410\n",
            "Epoch 19/30\n",
            "351/351 [==============================] - 88s 251ms/step - loss: 1.0315\n",
            "Epoch 20/30\n",
            "351/351 [==============================] - 88s 250ms/step - loss: 1.0225\n",
            "Epoch 21/30\n",
            "351/351 [==============================] - 88s 251ms/step - loss: 1.0142\n",
            "Epoch 22/30\n",
            "351/351 [==============================] - 88s 251ms/step - loss: 1.0070\n",
            "Epoch 23/30\n",
            "351/351 [==============================] - 88s 252ms/step - loss: 1.0001\n",
            "Epoch 24/30\n",
            "351/351 [==============================] - 88s 252ms/step - loss: 0.9939\n",
            "Epoch 25/30\n",
            "351/351 [==============================] - 88s 251ms/step - loss: 0.9886\n",
            "Epoch 26/30\n",
            "351/351 [==============================] - 88s 250ms/step - loss: 0.9837\n",
            "Epoch 27/30\n",
            "351/351 [==============================] - 88s 252ms/step - loss: 0.9793\n",
            "Epoch 28/30\n",
            "351/351 [==============================] - 88s 251ms/step - loss: 0.9753\n",
            "Epoch 29/30\n",
            "351/351 [==============================] - 89s 253ms/step - loss: 0.9721\n",
            "Epoch 30/30\n",
            "351/351 [==============================] - 88s 251ms/step - loss: 0.9686\n"
          ],
          "name": "stdout"
        },
        {
          "output_type": "execute_result",
          "data": {
            "text/plain": [
              "<tensorflow.python.keras.callbacks.History at 0x7f6a504ea828>"
            ]
          },
          "metadata": {
            "tags": []
          },
          "execution_count": 25
        }
      ]
    },
    {
      "cell_type": "markdown",
      "metadata": {
        "id": "LNmbzguqZQ7p",
        "colab_type": "text"
      },
      "source": [
        "**load-save the model**"
      ]
    },
    {
      "cell_type": "code",
      "metadata": {
        "id": "1VEJZOz2Xm-R",
        "colab_type": "code",
        "colab": {}
      },
      "source": [
        "# saving the model\n",
        "model.save('shakespeare_gen.h5')"
      ],
      "execution_count": 0,
      "outputs": []
    },
    {
      "cell_type": "code",
      "metadata": {
        "id": "oE747UidYTHd",
        "colab_type": "code",
        "colab": {}
      },
      "source": [
        "# loading the saved model\n",
        "from tensorflow.keras.models import load_model\n",
        "\n",
        "model = create_model(vocab_size, embed_dim, rnn_neurons, batch_size=1) # we are basically changing the previous model to something with batch_size of 1 because we are going to test it, not train it anymore\n",
        "model.load_weights('shakespeare_gen.h5')\n",
        "model.build(tf.TensorShape([1, None])) # in build we are specifying the input tensor shape\n"
      ],
      "execution_count": 0,
      "outputs": []
    },
    {
      "cell_type": "markdown",
      "metadata": {
        "id": "rkELVpoCZUaH",
        "colab_type": "text"
      },
      "source": [
        "##Generating Poem (output)"
      ]
    },
    {
      "cell_type": "code",
      "metadata": {
        "id": "ilaMZVdrY3JI",
        "colab_type": "code",
        "colab": {}
      },
      "source": [
        "def generate_text(model, start_seed,gen_size=100,temp=1.0):\n",
        "    '''\n",
        "    model: Trained Model to Generate Text\n",
        "    start_seed: Intial Seed text in string form\n",
        "    gen_size: Number of characters to generate\n",
        "\n",
        "    Basic idea behind this function is to take in some seed text, format it so\n",
        "    that it is in the correct shape for our network, then loop the sequence as\n",
        "    we keep adding our own predicted characters. Similar to our work in the RNN\n",
        "    time series problems.\n",
        "    '''\n",
        "\n",
        "    # Number of characters to generate\n",
        "    num_generate = gen_size\n",
        "\n",
        "    # Vecotrizing starting seed text\n",
        "    input_eval = [char_to_ind[s] for s in start_seed]\n",
        "\n",
        "    # Expand to match batch format shape\n",
        "    input_eval = tf.expand_dims(input_eval, 0)\n",
        "\n",
        "    # Empty list to hold resulting generated text\n",
        "    text_generated = []\n",
        "\n",
        "    # Temperature effects randomness in our resulting text\n",
        "    # The term is derived from entropy/thermodynamics.\n",
        "    # The temperature is used to effect probability of next characters.\n",
        "    # Lower temperature == less surprising/ more expected\n",
        "    # Higher temperature == more surprising / less expected\n",
        "    \n",
        "    temperature = temp\n",
        "\n",
        "    # Here batch size == 1\n",
        "    model.reset_states()\n",
        "\n",
        "    for i in range(num_generate):\n",
        "\n",
        "        # Generate Predictions\n",
        "        predictions = model(input_eval)\n",
        "\n",
        "        # Remove the batch shape dimension\n",
        "        predictions = tf.squeeze(predictions, 0)\n",
        "\n",
        "        # Use a cateogircal disitribution to select the next character\n",
        "        predictions = predictions / temperature\n",
        "        predicted_id = tf.random.categorical(predictions, num_samples=1)[-1,0].numpy()\n",
        "\n",
        "        # Pass the predicted charracter for the next input\n",
        "        input_eval = tf.expand_dims([predicted_id], 0)\n",
        "\n",
        "        # Transform back to character letter\n",
        "        text_generated.append(ind_to_char[predicted_id])\n",
        "\n",
        "    return (start_seed + ''.join(text_generated))\n"
      ],
      "execution_count": 0,
      "outputs": []
    },
    {
      "cell_type": "code",
      "metadata": {
        "id": "VdFLUboXZo-N",
        "colab_type": "code",
        "colab": {
          "base_uri": "https://localhost:8080/",
          "height": 386
        },
        "outputId": "86685d9f-ffd1-4f52-bb88-8eb2a317f2d7"
      },
      "source": [
        "# example 1: tmp=1.0\n",
        "print(generate_text(model,\"flower\",gen_size=1000))"
      ],
      "execution_count": 29,
      "outputs": [
        {
          "output_type": "stream",
          "text": [
            "flower.\n",
            "    Who's here! Here's the stage\n",
            "    Of one, Scome, spirit, friend, at least, thou diest.\n",
            "\n",
            "              blood her love.\n",
            "  TRANIO. Grant him in thine own boy's hearing.\n",
            "  SHALLOW. He is dead, most proof. My letter hath ick to  \n",
            "    thoughts may be so reasonable- and there is no jottlu under Taunt sir, a  \n",
            "    fountain point.\n",
            "  CALIBAN. Speak to Antonio; an increase, boy, but I'll fithey\n",
            "    So marial Toby trimul and full of great\n",
            "    Must cuck. Fire and sorrow at Ethise will bear\n",
            "    Fire and the Tribune -and these men should say anythough about your fillogs.\n",
            "  MALVOLIO. 'Remember her to move; therefore my protection.              Exeunt SERVANTS\n",
            "\n",
            "  MESSENGER. Dost thou hear me, de end?\n",
            "    Earth, good Sister, and myself and yours,\n",
            "    And theess yet let it be most fierce.\n",
            "  HEEMIO. As much as I become enough\n",
            "    so such a man good innocent eyes? who supper to conspire against conduct\n",
            "    Divided into the court still be the world,\n",
            "    And that they were inform'd steel for perfum'less\n"
          ],
          "name": "stdout"
        }
      ]
    },
    {
      "cell_type": "code",
      "metadata": {
        "id": "QeNLRM2el1vl",
        "colab_type": "code",
        "colab": {
          "base_uri": "https://localhost:8080/",
          "height": 353
        },
        "outputId": "a5cf45cd-67b0-4fa7-a4ea-4a3c17f9fc1c"
      },
      "source": [
        "# example 1: temp=0.4, less suprising\n",
        "print(generate_text(model,\"flower\",gen_size=1000,temp=0.4))"
      ],
      "execution_count": 32,
      "outputs": [
        {
          "output_type": "stream",
          "text": [
            "flower.\n",
            "    The bastard discourse of his deserts in this letter to my will.\n",
            "  ANTONIO. The day should be the faults and the conclusion\n",
            "    Of all these books. What though I know 'tis now the devil?\n",
            "  POLIXENES. Sir, you are near to her; now be the poor maid, by me\n",
            "    I stood before the best of men are but\n",
            "    As I am liberal in the court of Jerus' house,\n",
            "    And they know the rest of the thing to meet him.\n",
            "    For the entreaty and whose great ones lost\n",
            "    The storm of royal rooth and heir of ingrateful service\n",
            "    Who should have been a mortal to deliver\n",
            "    A better wishes that have done with me.\n",
            "    Now is the business is to be reveng'd.\n",
            "    I am a gentleman of your deigning.\n",
            "                                                             Exeunt all but BUCKINGHAM and CAMILLO\n",
            "  SERVANT. What is the matter?\n",
            "  PANDARUS. What a circumstance good men! What is your will?\n",
            "  TIMON. The boy hath been best known with my desires,\n",
            "    And he shall say I have no power to do it.\n",
            "    I have seen thee tha\n"
          ],
          "name": "stdout"
        }
      ]
    },
    {
      "cell_type": "code",
      "metadata": {
        "id": "zxSglBc-mV4F",
        "colab_type": "code",
        "colab": {}
      },
      "source": [
        ""
      ],
      "execution_count": 0,
      "outputs": []
    }
  ]
}